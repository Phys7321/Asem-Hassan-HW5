{
 "cells": [
  {
   "cell_type": "markdown",
   "metadata": {},
   "source": [
    "# Solution to HW 5 question 2): "
   ]
  },
  {
   "cell_type": "markdown",
   "metadata": {},
   "source": [
    "The Hit & miss method with estimated error: "
   ]
  },
  {
   "cell_type": "code",
   "execution_count": 1,
   "metadata": {},
   "outputs": [],
   "source": [
    "%matplotlib inline\n",
    "import numpy as np\n",
    "from matplotlib import pyplot"
   ]
  },
  {
   "cell_type": "code",
   "execution_count": 2,
   "metadata": {},
   "outputs": [],
   "source": [
    "def f(x):\n",
    "    f=x**2\n",
    "    return f"
   ]
  },
  {
   "cell_type": "code",
   "execution_count": 3,
   "metadata": {},
   "outputs": [],
   "source": [
    "def HitandMiss():\n",
    "    N=1000000\n",
    "    x=np.random.random(N)\n",
    "    y=np.random.random(N)\n",
    "    Ni=0\n",
    "\n",
    "    for i in range(N):\n",
    "        yx=f(x[i])\n",
    "        if(y[i]<yx):\n",
    "            Ni+=1\n",
    "        \n",
    "    I=float(Ni)/float(N)\n",
    "    \n",
    "    return I"
   ]
  },
  {
   "cell_type": "code",
   "execution_count": 4,
   "metadata": {},
   "outputs": [
    {
     "data": {
      "text/plain": [
       "0.333595"
      ]
     },
     "execution_count": 4,
     "metadata": {},
     "output_type": "execute_result"
    }
   ],
   "source": [
    "I=HitandMiss()\n",
    "I"
   ]
  },
  {
   "cell_type": "code",
   "execution_count": 5,
   "metadata": {},
   "outputs": [
    {
     "name": "stdout",
     "output_type": "stream",
     "text": [
      "Hit and Miss: \n",
      "I= 0.33335018000000005 +/- 4.887671097772452e-05\n"
     ]
    }
   ],
   "source": [
    "M=100\n",
    "Ilist=[]\n",
    "for i in range(M):\n",
    "    I=HitandMiss()\n",
    "    Ilist.append(I)\n",
    "\n",
    "Iarray=np.array(Ilist)\n",
    "\n",
    "avg=np.mean(Iarray)\n",
    "std=np.std(Iarray)\n",
    "error=std/np.sqrt(M)\n",
    "\n",
    "print('Hit and Miss: ')\n",
    "print('I=',avg,'+/-',error)"
   ]
  },
  {
   "cell_type": "code",
   "execution_count": 6,
   "metadata": {},
   "outputs": [],
   "source": [
    "def simpleMC(a,b):    # a=0 and b=1 in this problem\n",
    "    N=1000000\n",
    "    x=np.random.random(N)\n",
    "    y=np.zeros(N)\n",
    "    mysum=0\n",
    "    \n",
    "    for i in range(N):\n",
    "        y[i]=f(x[i])\n",
    "        mysum += y[i]\n",
    "    \n",
    "    I=mysum/N*(b-a)\n",
    "    return I \n",
    "    "
   ]
  },
  {
   "cell_type": "code",
   "execution_count": 7,
   "metadata": {},
   "outputs": [
    {
     "name": "stdout",
     "output_type": "stream",
     "text": [
      "Simple Monte Carlo: \n",
      "I= 0.3333337344707134 +/- 2.8275171841650226e-05\n"
     ]
    }
   ],
   "source": [
    "M=100\n",
    "Ilist=[]\n",
    "for i in range(M):\n",
    "    I=simpleMC(0,1)\n",
    "    Ilist.append(I)\n",
    "\n",
    "Iarray=np.array(Ilist)\n",
    "\n",
    "avg=np.mean(Iarray)\n",
    "std=np.std(Iarray)\n",
    "error=std/np.sqrt(M)\n",
    "\n",
    "print(\"Simple Monte Carlo: \")\n",
    "print('I=',avg,'+/-',error)"
   ]
  },
  {
   "cell_type": "markdown",
   "metadata": {},
   "source": [
    "importance sampling according to P(x)=x, the inverse function relation is x = y^2/2 which gives y= sqrt(2x)"
   ]
  },
  {
   "cell_type": "code",
   "execution_count": 8,
   "metadata": {},
   "outputs": [],
   "source": [
    "def P(r):\n",
    "    p=np.sqrt(2*r)\n",
    "    return p"
   ]
  },
  {
   "cell_type": "code",
   "execution_count": 9,
   "metadata": {},
   "outputs": [],
   "source": [
    "def ImportanceSamplingMC(a,b):\n",
    "    N=100000\n",
    "    r=np.random.random(N)\n",
    "    x=P(r)\n",
    "    x1=np.sqrt(2)*x    #normalizing the distribution\n",
    "    y=np.zeros(N)\n",
    "    mysum=0\n",
    "    \n",
    "    for i in range(N):\n",
    "        y[i]=f(x[i]/P(x1[i]))\n",
    "        mysum += y[i]\n",
    "        \n",
    "    I =mysum/N\n",
    "    return I "
   ]
  },
  {
   "cell_type": "code",
   "execution_count": 10,
   "metadata": {},
   "outputs": [
    {
     "name": "stdout",
     "output_type": "stream",
     "text": [
      "Importance Sampling:\n",
      "I= 0.33336037157524934 +/- 3.690048075173097e-05\n"
     ]
    }
   ],
   "source": [
    "M=100\n",
    "Ilist=[]\n",
    "for i in range(M):\n",
    "    I=ImportanceSamplingMC(0,1)\n",
    "    Ilist.append(I)\n",
    "\n",
    "Iarray=np.array(Ilist)\n",
    "\n",
    "avg=np.mean(Iarray)\n",
    "std=np.std(Iarray)\n",
    "error=std/np.sqrt(M)\n",
    "\n",
    "print(\"Importance Sampling:\")\n",
    "print('I=',avg,'+/-',error)\n"
   ]
  },
  {
   "cell_type": "markdown",
   "metadata": {},
   "source": [
    "# question 3): "
   ]
  },
  {
   "cell_type": "code",
   "execution_count": 11,
   "metadata": {},
   "outputs": [],
   "source": [
    "def f(x):\n",
    "    f=np.sqrt(x)\n",
    "    return f"
   ]
  },
  {
   "cell_type": "code",
   "execution_count": 12,
   "metadata": {},
   "outputs": [
    {
     "name": "stdout",
     "output_type": "stream",
     "text": [
      "Hit and Miss: \n",
      "I= 0.66643\n"
     ]
    }
   ],
   "source": [
    "I=HitandMiss()\n",
    "\n",
    "print('Hit and Miss: ')\n",
    "print('I=',I)"
   ]
  },
  {
   "cell_type": "code",
   "execution_count": 13,
   "metadata": {},
   "outputs": [
    {
     "name": "stdout",
     "output_type": "stream",
     "text": [
      "Hit and Miss: \n",
      "I= 0.6666928900000001 +/- 4.611810901370512e-05\n"
     ]
    }
   ],
   "source": [
    "M=100\n",
    "Ilist=[]\n",
    "for i in range(M):\n",
    "    I=HitandMiss()\n",
    "    Ilist.append(I)\n",
    "\n",
    "Iarray=np.array(Ilist)\n",
    "\n",
    "avg=np.mean(Iarray)\n",
    "std=np.std(Iarray)\n",
    "error=std/np.sqrt(M)\n",
    "\n",
    "print('Hit and Miss: ')\n",
    "print('I=',avg,'+/-',error)"
   ]
  },
  {
   "cell_type": "code",
   "execution_count": 14,
   "metadata": {},
   "outputs": [
    {
     "name": "stdout",
     "output_type": "stream",
     "text": [
      "simple MC: \n",
      "I= 0.6666535506466584\n"
     ]
    }
   ],
   "source": [
    "I=simpleMC(0,1)\n",
    "\n",
    "print('simple MC: ')\n",
    "print('I=',I)"
   ]
  },
  {
   "cell_type": "code",
   "execution_count": 15,
   "metadata": {},
   "outputs": [
    {
     "name": "stdout",
     "output_type": "stream",
     "text": [
      "simple MC: \n",
      "I= 0.6666762788326642 +/- 2.410388274422513e-05\n"
     ]
    }
   ],
   "source": [
    "M=100\n",
    "Ilist=[]\n",
    "for i in range(M):\n",
    "    I=simpleMC(0,1)\n",
    "    Ilist.append(I)\n",
    "\n",
    "Iarray=np.array(Ilist)\n",
    "\n",
    "avg=np.mean(Iarray)\n",
    "std=np.std(Iarray)\n",
    "error=std/np.sqrt(M)\n",
    "\n",
    "print('simple MC: ')\n",
    "print('I=',avg,'+/-',error)"
   ]
  },
  {
   "cell_type": "markdown",
   "metadata": {},
   "source": [
    "to solve for the probability distribution needed, we need to solve a transcendental equation for y: \n",
    "    $x=N(y+1/a*exp(-a*y))$ , where $N=a/(a+exp(-a)-1)$\n",
    "    in order to do that I first tried to use the solver package from python, and searched for how to solve transcendental equations in python, but this gave a lot of errors, so I tried Von Neumann rejection method of generating the needed random numbers according to the given probability distribution, and then used these numbers in Monte Carlo importance sampling integration:"
   ]
  },
  {
   "cell_type": "code",
   "execution_count": 16,
   "metadata": {},
   "outputs": [],
   "source": [
    "a=1\n",
    "Norm=a/(a+np.exp(-a)-1)"
   ]
  },
  {
   "cell_type": "code",
   "execution_count": 17,
   "metadata": {},
   "outputs": [
    {
     "name": "stdout",
     "output_type": "stream",
     "text": [
      "Acceptance Ratio:  0.5843\n"
     ]
    },
    {
     "data": {
      "image/png": "[encoded data removed]",
      "text/plain": [
       "<Figure size 432x288 with 1 Axes>"
      ]
     },
     "metadata": {},
     "output_type": "display_data"
    }
   ],
   "source": [
    "N = 50000\n",
    "\n",
    "xmax = 1\n",
    "ymax = Norm*(1-np.exp(-a * xmax))\n",
    "\n",
    "rx = np.random.random(N)*xmax\n",
    "ry = np.random.random(N)*ymax\n",
    "\n",
    "values = []\n",
    "\n",
    "Nin = 0\n",
    "for i in range(N):\n",
    "    if(ry[i] <= (Norm*(1-np.exp(-a * rx[i])))):\n",
    "        # Accept\n",
    "        values.append(rx[i])\n",
    "        Nin += 1\n",
    "        \n",
    "x = np.asarray(values)\n",
    "    \n",
    "print(\"Acceptance Ratio: \",Nin/float(N))\n",
    "binwidth=1/100\n",
    "#pyplot.hist(rx,bins=np.arange(0.,100., binwidth),density=True);\n",
    "pyplot.hist(x,bins=np.arange(0.,xmax, binwidth),density=True);\n",
    "pyplot.plot(np.arange(0.,xmax,binwidth),Norm*(1 - np.exp(-a*np.arange(0,xmax, binwidth))),ls='-',c='red',lw=3);"
   ]
  },
  {
   "cell_type": "code",
   "execution_count": 18,
   "metadata": {},
   "outputs": [],
   "source": [
    "def ImportanceSamplingMC(c,b,x,a):\n",
    "    I=0\n",
    "    for i in range(len(x)):\n",
    "        I += np.sqrt(x[i])/(Norm*(1-np.exp(-a * x[i]))) \n",
    "\n",
    "    I=I/len(x)\n",
    "    return I "
   ]
  },
  {
   "cell_type": "code",
   "execution_count": 19,
   "metadata": {},
   "outputs": [
    {
     "name": "stdout",
     "output_type": "stream",
     "text": [
      "Importance sampling: \n",
      " I=  0.6656060280129487\n"
     ]
    }
   ],
   "source": [
    "I=ImportanceSamplingMC(0,1,x,a)\n",
    "print(\"Importance sampling: \\n\",\"I= \",I)"
   ]
  },
  {
   "cell_type": "markdown",
   "metadata": {},
   "source": [
    "to estimate the variance and find a that minimizes the variance, I needed to modulerize the Von_Neumann random number generator:"
   ]
  },
  {
   "cell_type": "code",
   "execution_count": 20,
   "metadata": {},
   "outputs": [],
   "source": [
    "def Von_Neumann_rng(a):\n",
    "    N = 50000\n",
    "    \n",
    "    Norm=a/(a+np.exp(-a)-1)\n",
    "    xmax = 1\n",
    "    ymax = Norm*(1-np.exp(-a * xmax))\n",
    "\n",
    "    rx = np.random.random(N)*xmax\n",
    "    ry = np.random.random(N)*ymax\n",
    "\n",
    "    values = []\n",
    "\n",
    "    Nin = 0\n",
    "    for i in range(N):\n",
    "        if(ry[i] <= (Norm*(1-np.exp(-a * rx[i])))):\n",
    "            # Accept\n",
    "            values.append(rx[i])\n",
    "            Nin += 1\n",
    "        \n",
    "    x = np.asarray(values)\n",
    "    return x                 #returning the pseudorandom numbers"
   ]
  },
  {
   "cell_type": "code",
   "execution_count": 24,
   "metadata": {},
   "outputs": [],
   "source": [
    "A=[]\n",
    "Var=[]\n",
    "a=0.5\n",
    "\n",
    "for i in range(10):\n",
    "    M=100\n",
    "    Ilist=[]\n",
    "    for i in range(M):\n",
    "        x=Von_Neumann_rng(a)\n",
    "        I=ImportanceSamplingMC(0,1,x,a)\n",
    "        Ilist.append(I)\n",
    "\n",
    "    Iarray=np.array(Ilist)\n",
    "\n",
    "    avg=np.mean(Iarray)\n",
    "    std=np.std(Iarray)\n",
    "    #error=std/np.sqrt(M)\n",
    "    variance=std**2\n",
    "    \n",
    "    A.append(a)\n",
    "    Var.append(variance)\n",
    "    a+=0.5"
   ]
  },
  {
   "cell_type": "code",
   "execution_count": 25,
   "metadata": {},
   "outputs": [
    {
     "data": {
      "text/plain": [
       "Text(0,0.5,'Variance')"
      ]
     },
     "execution_count": 25,
     "metadata": {},
     "output_type": "execute_result"
    },
    {
     "data": {
      "image/png": "[encoded data removed]",
      "text/plain": [
       "<Figure size 432x288 with 1 Axes>"
      ]
     },
     "metadata": {},
     "output_type": "display_data"
    }
   ],
   "source": [
    "pyplot.plot(A,Var)\n",
    "pyplot.xlabel('a')\n",
    "pyplot.ylabel('Variance')"
   ]
  },
  {
   "cell_type": "markdown",
   "metadata": {},
   "source": [
    "it can be seen that increasing a decreases the variance "
   ]
  },
  {
   "cell_type": "code",
   "execution_count": 34,
   "metadata": {},
   "outputs": [
    {
     "data": {
      "text/plain": [
       "[3.758919573229972e-06,\n",
       " 7.794085658744205e-07,\n",
       " 2.6289282449040616e-07,\n",
       " 1.1751305955383985e-07,\n",
       " 8.253287348072702e-08,\n",
       " 5.317376131417607e-08,\n",
       " 3.9877848692388295e-08,\n",
       " 3.45596438772669e-08,\n",
       " 3.355053345433815e-08,\n",
       " 4.1802201428689893e-08]"
      ]
     },
     "execution_count": 34,
     "metadata": {},
     "output_type": "execute_result"
    }
   ],
   "source": [
    "Var\n"
   ]
  },
  {
   "cell_type": "code",
   "execution_count": 30,
   "metadata": {},
   "outputs": [
    {
     "data": {
      "text/plain": [
       "3.355053345433815e-08"
      ]
     },
     "execution_count": 30,
     "metadata": {},
     "output_type": "execute_result"
    }
   ],
   "source": [
    "min(Var)"
   ]
  },
  {
   "cell_type": "markdown",
   "metadata": {},
   "source": [
    "it can be seen that in the given range for a (from 0.5 to 5 in 0.5 steps) that a=4.5 gives the minimum variance"
   ]
  }
 ],
 "metadata": {
  "kernelspec": {
   "display_name": "Python 3",
   "language": "python",
   "name": "python3"
  },
  "language_info": {
   "codemirror_mode": {
    "name": "ipython",
    "version": 3
   },
   "file_extension": ".py",
   "mimetype": "text/x-python",
   "name": "python",
   "nbconvert_exporter": "python",
   "pygments_lexer": "ipython3",
   "version": "3.6.5"
  }
 },
 "nbformat": 4,
 "nbformat_minor": 2
}
